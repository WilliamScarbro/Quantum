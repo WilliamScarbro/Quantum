{
 "cells": [
  {
   "cell_type": "markdown",
   "metadata": {},
   "source": [
    "### Quantum Computing\n",
    "\n",
    "source: Quantum Computing For Computer Scientists"
   ]
  },
  {
   "cell_type": "code",
   "execution_count": 1,
   "metadata": {},
   "outputs": [],
   "source": [
    "import cmath\n",
    "import math\n",
    "import numpy as np\n",
    "from IPython.core.debugger import set_trace"
   ]
  },
  {
   "cell_type": "markdown",
   "metadata": {},
   "source": [
    "#### Basic Operations"
   ]
  },
  {
   "cell_type": "code",
   "execution_count": 2,
   "metadata": {},
   "outputs": [],
   "source": [
    "def adjoint(A):\n",
    "    return A.getH()\n",
    "\n",
    "def hermitian(A):\n",
    "    return np.array_equal(adjoint(A),A)\n",
    "\n",
    "def unitary(A):\n",
    "    return np.array_equal(adjoint(A)@A,I(A.shape[0]))\n",
    "\n",
    "def tensor(A,B):\n",
    "    return np.kron(A,B)\n",
    "\n",
    "def bra(ket):\n",
    "    return np.array(list(map(lambda x:x.conjugate(),ket)))\n",
    "\n",
    "#<a|b>\n",
    "#probability of b transitioning to a\n",
    "def transition_amplitude(a,b):\n",
    "    return a@bra(b).reshape(-1,1)\n",
    "\n",
    "def phase(c):\n",
    "    return cmath.phase(c)\n",
    "\n",
    "def l2_help(c):\n",
    "    if isinstance(c,complex):\n",
    "        return (c*c.conjugate()).real\n",
    "    if isinstance(c,np.ndarray):\n",
    "        if c.shape==(1,1):\n",
    "            return l2_help(c[0,0])\n",
    "        return sum(l2_help(i) for i in c)\n",
    "    return c**2\n",
    "\n",
    "def l2_norm(c):\n",
    "    return l2_help(c)**(1/2)    \n",
    "\n",
    "def normalize(c):\n",
    "    return (1/l2_norm(c))*c"
   ]
  },
  {
   "cell_type": "code",
   "execution_count": 3,
   "metadata": {},
   "outputs": [],
   "source": [
    "#2x2 (1-bit)\n",
    "def Not():\n",
    "    return np.matrix([[0,1],[1,0]])\n",
    "\n",
    "#nxn\n",
    "def I(n):\n",
    "    return np.matrix([[1 if i==j else 0 for i in range(n)] for j in range(n)],dtype=complex)\n",
    "\n",
    "#4x4 (2-bits)\n",
    "def controlled_Not():\n",
    "    r=I(4)\n",
    "    r[2],r[3] = r[3].copy(),r[2].copy()\n",
    "    return r\n",
    "\n",
    "\n",
    "#8x8 (3-bit)\n",
    "def Toffoli():\n",
    "    r=I(8)\n",
    "    r[6],r[7]=r[7],r[6]\n",
    "    return r\n",
    "\n",
    "\n",
    "#Pauli Matrices (More Quantum Gates)\n",
    "\n",
    "def X():\n",
    "    return Not()\n",
    "\n",
    "def Y():\n",
    "    return np.matrix([[0,complex(0,-1)],[complex(0,1),0]])\n",
    "\n",
    "def Z():\n",
    "    return np.matrix([[1,0],[0,-1]])\n",
    "\n",
    "#some others\n",
    "def S():\n",
    "    return np.matrix([[1,0],[0,complex(0,1)]])\n",
    "\n",
    "def T():\n",
    "    return np.matrix([[1,0],[0,2**.5/2*complex(1,1)]])\n",
    "\n",
    "def H():\n",
    "    return 1/2**.5*(X()+Z())\n",
    "\n",
    "def sqrt_Not():\n",
    "    return 1/sqrt(2)*np.matrix([[1,-1],[1,1]])\n",
    "\n"
   ]
  },
  {
   "cell_type": "code",
   "execution_count": 4,
   "metadata": {},
   "outputs": [],
   "source": [
    "#Measurement Operators\n",
    "\n",
    "def position(dimension,n):\n",
    "    return np.matrix([[1 if i==j==dimension else 0 for i in range(n)] for j in range(n)])\n",
    "def momentum(delta):\n",
    "    pass\n",
    "def spin(direction):\n",
    "    pass"
   ]
  },
  {
   "cell_type": "code",
   "execution_count": 9,
   "metadata": {},
   "outputs": [],
   "source": [
    "#Quantum Systems\n",
    "\n",
    "\n",
    "class OneParticleSystem:\n",
    "    def __init__(self,n_states):\n",
    "        self.n_states=n_states\n",
    "        self.impose(0)\n",
    "    def impose(self,state):\n",
    "        self.state=np.array([1 if i==state else 0 for i in range(self.n_states)])\n",
    "        self.imposed=True\n",
    "    def evolve(self,A,steps):\n",
    "        for i in range(steps):\n",
    "            self.state=A@self.state\n",
    "        return self.state\n",
    "    def __str__(self):\n",
    "        return str(self.state)\n",
    "\n",
    "class System:\n",
    "    def __init__(self,opSystems):\n",
    "        self.system=opSystems\n",
    "        self.n_particles=len(self.system)\n",
    "        self.imposed=False\n",
    "    def __init__(self,n_particles,n_states):\n",
    "        self.n_particles=n_particles\n",
    "        self.n_states=n_states\n",
    "        self.state_len = n_particles**n_states\n",
    "        self.system = [OneParticleSystem(self.n_states) for i in range(n_particles)]\n",
    "        self.impose([0 for i in range(n_particles)])\n",
    "    #cur_states is a list of states of length n_particles. each state is in [0,self.states-1]\n",
    "    def impose(self,cur_states):\n",
    "        self.imposed=True \n",
    "        self.system[0].impose(cur_states[0])\n",
    "        self.state=self.system[0].state\n",
    "        for i in range(1,self.n_particles):\n",
    "            self.system[i].impose(cur_states[i])\n",
    "            self.state=tensor(self.state,self.system[i].state)\n",
    "    def evolve(self,A,steps=1):\n",
    "        for i in range(steps):\n",
    "            self.state=(A@self.state).reshape(-1,1)\n",
    "        return self.state\n",
    "    def entangled(self):\n",
    "        tensored = self.state.reshape(*(self.system[i].n_states for i in range(self.n_particles)))\n",
    "        print(\"tensored\",tensored)\n",
    "        return not (-.0001<np.linalg.det(tensored)<0.00001)\n",
    "    def __str__(self):\n",
    "        return str(self.state)+f\" Entangled: {self.entangled()}\"\n",
    "    def predict(self,measurement):\n",
    "        assert hermitian(measurement), \"Measurement Operator must be Hermitian\"\n",
    "        ws,vs = np.linalg.eig(measurement)\n",
    "        #set_trace()\n",
    "        probabilities = [l2_norm(transition_amplitude(v,self.state))**2 for v in vs]\n",
    "        #set_trace()\n",
    "        mean = self.state.T@(measurement@self.state) #(xAx = <Ax,x>)\n",
    "        return vs,probabilities,mean\n",
    "    def measure(self,measurement):\n",
    "        vs,probabilities,mean = self.predict(measurement)\n",
    "        self.state=random.choice(vs,weights=probabilities)\n",
    "        return self.state\n",
    "\n",
    "class QuantumComputer(System):\n",
    "    def __init__(self,n_qubits):\n",
    "        System.__init__(self,n_qubits,2)"
   ]
  },
  {
   "cell_type": "code",
   "execution_count": 35,
   "metadata": {},
   "outputs": [],
   "source": [
    "#plotting\n",
    "import matplotlib.pyplot as plt\n",
    "\n",
    "def plot_predict(vs,probabilities,mean):\n",
    "    sVs = [str(v) for v in vs]\n",
    "    plt.bar(sVs,probabilities)\n",
    "    plt.xticks(rotation=30)"
   ]
  },
  {
   "cell_type": "code",
   "execution_count": 33,
   "metadata": {},
   "outputs": [],
   "source": [
    "#Deutch's Algorithm\n",
    "def Uf():\n",
    "    r=I(4)\n",
    "    r[1],r[2]=r[2].copy(),r[1].copy()\n",
    "    return r\n",
    "\n",
    "def deutchs():\n",
    "    qc=QuantumComputer(2)\n",
    "    qc.impose([0,1])\n",
    "    print(qc)\n",
    "    qc.evolve(tensor(H(),H()))\n",
    "    print(qc)\n",
    "    qc.evolve(controlled_Not())\n",
    "    print(qc)\n",
    "    qc.evolve(tensor(H(),I(2)))\n",
    "    print(qc)\n",
    "    plot_predict(*qc.predict(tensor(position(1,2),I(2))))"
   ]
  },
  {
   "cell_type": "code",
   "execution_count": 38,
   "metadata": {},
   "outputs": [
    {
     "data": {
      "text/plain": [
       "matrix([[1.+0.j, 0.+0.j, 0.+0.j, 0.+0.j],\n",
       "        [0.+0.j, 1.+0.j, 0.+0.j, 0.+0.j],\n",
       "        [0.+0.j, 0.+0.j, 0.+0.j, 0.+0.j],\n",
       "        [0.+0.j, 0.+0.j, 0.+0.j, 0.+0.j]])"
      ]
     },
     "execution_count": 38,
     "metadata": {},
     "output_type": "execute_result"
    }
   ],
   "source": [
    "tensor(position(0,2),I(2))\n",
    "#deutchs()\n"
   ]
  },
  {
   "cell_type": "code",
   "execution_count": 8,
   "metadata": {},
   "outputs": [
    {
     "name": "stdout",
     "output_type": "stream",
     "text": [
      "> \u001b[0;32m<ipython-input-5-905ff3b7f9b6>\u001b[0m(52)\u001b[0;36mpredict\u001b[0;34m()\u001b[0m\n",
      "\u001b[0;32m     50 \u001b[0;31m        \u001b[0mprobabilities\u001b[0m \u001b[0;34m=\u001b[0m \u001b[0;34m[\u001b[0m\u001b[0ml2_norm\u001b[0m\u001b[0;34m(\u001b[0m\u001b[0mtransition_amplitude\u001b[0m\u001b[0;34m(\u001b[0m\u001b[0mv\u001b[0m\u001b[0;34m,\u001b[0m\u001b[0mself\u001b[0m\u001b[0;34m.\u001b[0m\u001b[0mstate\u001b[0m\u001b[0;34m)\u001b[0m\u001b[0;34m)\u001b[0m\u001b[0;34m**\u001b[0m\u001b[0;36m2\u001b[0m \u001b[0;32mfor\u001b[0m \u001b[0mv\u001b[0m \u001b[0;32min\u001b[0m \u001b[0mvs\u001b[0m\u001b[0;34m]\u001b[0m\u001b[0;34m\u001b[0m\u001b[0;34m\u001b[0m\u001b[0m\n",
      "\u001b[0m\u001b[0;32m     51 \u001b[0;31m        \u001b[0;31m#set_trace()\u001b[0m\u001b[0;34m\u001b[0m\u001b[0;34m\u001b[0m\u001b[0;34m\u001b[0m\u001b[0m\n",
      "\u001b[0m\u001b[0;32m---> 52 \u001b[0;31m        \u001b[0mmean\u001b[0m \u001b[0;34m=\u001b[0m \u001b[0mself\u001b[0m\u001b[0;34m.\u001b[0m\u001b[0mstate\u001b[0m\u001b[0;34m@\u001b[0m\u001b[0;34m(\u001b[0m\u001b[0mmeasurement\u001b[0m\u001b[0;34m@\u001b[0m\u001b[0mself\u001b[0m\u001b[0;34m.\u001b[0m\u001b[0mstate\u001b[0m\u001b[0;34m)\u001b[0m \u001b[0;31m#(xAx = <Ax,x>)\u001b[0m\u001b[0;34m\u001b[0m\u001b[0;34m\u001b[0m\u001b[0m\n",
      "\u001b[0m\u001b[0;32m     53 \u001b[0;31m        \u001b[0;32mreturn\u001b[0m \u001b[0mvs\u001b[0m\u001b[0;34m,\u001b[0m\u001b[0mprobabilities\u001b[0m\u001b[0;34m,\u001b[0m\u001b[0mmean\u001b[0m\u001b[0;34m\u001b[0m\u001b[0;34m\u001b[0m\u001b[0m\n",
      "\u001b[0m\u001b[0;32m     54 \u001b[0;31m    \u001b[0;32mdef\u001b[0m \u001b[0mmeasure\u001b[0m\u001b[0;34m(\u001b[0m\u001b[0mself\u001b[0m\u001b[0;34m,\u001b[0m\u001b[0mmeasurement\u001b[0m\u001b[0;34m)\u001b[0m\u001b[0;34m:\u001b[0m\u001b[0;34m\u001b[0m\u001b[0;34m\u001b[0m\u001b[0m\n",
      "\u001b[0m\n",
      "ipdb> self.state\n",
      "matrix([[ 2.29934717e-17+0.j],\n",
      "        [-2.29934717e-17+0.j],\n",
      "        [ 7.07106781e-01+0.j],\n",
      "        [-7.07106781e-01+0.j]])\n",
      "ipdb> self.state.shape\n",
      "(4, 1)\n",
      "ipdb> measurement.shape\n",
      "(4, 4)\n",
      "ipdb> (measurement@self.state).shape\n",
      "(4, 1)\n",
      "ipdb> exit\n"
     ]
    }
   ],
   "source": [
    "%debug"
   ]
  }
 ],
 "metadata": {
  "kernelspec": {
   "display_name": "Python 3",
   "language": "python",
   "name": "python3"
  },
  "language_info": {
   "codemirror_mode": {
    "name": "ipython",
    "version": 3
   },
   "file_extension": ".py",
   "mimetype": "text/x-python",
   "name": "python",
   "nbconvert_exporter": "python",
   "pygments_lexer": "ipython3",
   "version": "3.6.9"
  }
 },
 "nbformat": 4,
 "nbformat_minor": 2
}
